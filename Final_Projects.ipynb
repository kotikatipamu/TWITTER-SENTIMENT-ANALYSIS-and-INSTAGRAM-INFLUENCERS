{
  "nbformat": 4,
  "nbformat_minor": 0,
  "metadata": {
    "colab": {
      "provenance": []
    },
    "kernelspec": {
      "name": "python3",
      "display_name": "Python 3"
    },
    "language_info": {
      "name": "python"
    }
  },
  "cells": [
    {
      "cell_type": "markdown",
      "source": [
        "#PROJECT-1 (TWITTER SENTIMENT ANALYSIS)"
      ],
      "metadata": {
        "id": "NQ0q3yjiSeiS"
      }
    },
    {
      "cell_type": "markdown",
      "source": [
        "#Reading the Data"
      ],
      "metadata": {
        "id": "aIV8smQhfLLs"
      }
    },
    {
      "cell_type": "code",
      "source": [
        "import pandas as pd\n",
        "df = pd.read_csv('/content/twitter_new.csv',names=['target','ids','date','flag','user','text'],header = None ,encoding = \"ISO-8859-1\")\n",
        "df.head(10)"
      ],
      "metadata": {
        "colab": {
          "base_uri": "https://localhost:8080/",
          "height": 1000
        },
        "id": "Ea2xibIAk2NB",
        "outputId": "8872058d-13cb-4dfc-9e22-c0b39fb810fd"
      },
      "execution_count": null,
      "outputs": [
        {
          "output_type": "execute_result",
          "data": {
            "text/plain": [
              "   target         ids                          date      flag  \\\n",
              "0       0  1467810369  Mon Apr 06 22:19:45 PDT 2009  NO_QUERY   \n",
              "1       0  1467810672  Mon Apr 06 22:19:49 PDT 2009  NO_QUERY   \n",
              "2       0  1467810917  Mon Apr 06 22:19:53 PDT 2009  NO_QUERY   \n",
              "3       0  1467811184  Mon Apr 06 22:19:57 PDT 2009  NO_QUERY   \n",
              "4       0  1467811193  Mon Apr 06 22:19:57 PDT 2009  NO_QUERY   \n",
              "5       0  1467811372  Mon Apr 06 22:20:00 PDT 2009  NO_QUERY   \n",
              "6       0  1467811592  Mon Apr 06 22:20:03 PDT 2009  NO_QUERY   \n",
              "7       0  1467811594  Mon Apr 06 22:20:03 PDT 2009  NO_QUERY   \n",
              "8       0  1467811795  Mon Apr 06 22:20:05 PDT 2009  NO_QUERY   \n",
              "9       0  1467812025  Mon Apr 06 22:20:09 PDT 2009  NO_QUERY   \n",
              "\n",
              "              user                                               text  \n",
              "0  _TheSpecialOne_  @switchfoot http://twitpic.com/2y1zl - Awww, t...  \n",
              "1    scotthamilton  is upset that he can't update his Facebook by ...  \n",
              "2         mattycus  @Kenichan I dived many times for the ball. Man...  \n",
              "3          ElleCTF    my whole body feels itchy and like its on fire   \n",
              "4           Karoli  @nationwideclass no, it's not behaving at all....  \n",
              "5         joy_wolf                      @Kwesidei not the whole crew   \n",
              "6          mybirch                                        Need a hug   \n",
              "7             coZZ  @LOLTrish hey  long time no see! Yes.. Rains a...  \n",
              "8  2Hood4Hollywood               @Tatiana_K nope they didn't have it   \n",
              "9          mimismo                          @twittera que me muera ?   "
            ],
            "text/html": [
              "\n",
              "  <div id=\"df-6f08e343-487f-414b-968c-b420e54cf81a\">\n",
              "    <div class=\"colab-df-container\">\n",
              "      <div>\n",
              "<style scoped>\n",
              "    .dataframe tbody tr th:only-of-type {\n",
              "        vertical-align: middle;\n",
              "    }\n",
              "\n",
              "    .dataframe tbody tr th {\n",
              "        vertical-align: top;\n",
              "    }\n",
              "\n",
              "    .dataframe thead th {\n",
              "        text-align: right;\n",
              "    }\n",
              "</style>\n",
              "<table border=\"1\" class=\"dataframe\">\n",
              "  <thead>\n",
              "    <tr style=\"text-align: right;\">\n",
              "      <th></th>\n",
              "      <th>target</th>\n",
              "      <th>ids</th>\n",
              "      <th>date</th>\n",
              "      <th>flag</th>\n",
              "      <th>user</th>\n",
              "      <th>text</th>\n",
              "    </tr>\n",
              "  </thead>\n",
              "  <tbody>\n",
              "    <tr>\n",
              "      <th>0</th>\n",
              "      <td>0</td>\n",
              "      <td>1467810369</td>\n",
              "      <td>Mon Apr 06 22:19:45 PDT 2009</td>\n",
              "      <td>NO_QUERY</td>\n",
              "      <td>_TheSpecialOne_</td>\n",
              "      <td>@switchfoot http://twitpic.com/2y1zl - Awww, t...</td>\n",
              "    </tr>\n",
              "    <tr>\n",
              "      <th>1</th>\n",
              "      <td>0</td>\n",
              "      <td>1467810672</td>\n",
              "      <td>Mon Apr 06 22:19:49 PDT 2009</td>\n",
              "      <td>NO_QUERY</td>\n",
              "      <td>scotthamilton</td>\n",
              "      <td>is upset that he can't update his Facebook by ...</td>\n",
              "    </tr>\n",
              "    <tr>\n",
              "      <th>2</th>\n",
              "      <td>0</td>\n",
              "      <td>1467810917</td>\n",
              "      <td>Mon Apr 06 22:19:53 PDT 2009</td>\n",
              "      <td>NO_QUERY</td>\n",
              "      <td>mattycus</td>\n",
              "      <td>@Kenichan I dived many times for the ball. Man...</td>\n",
              "    </tr>\n",
              "    <tr>\n",
              "      <th>3</th>\n",
              "      <td>0</td>\n",
              "      <td>1467811184</td>\n",
              "      <td>Mon Apr 06 22:19:57 PDT 2009</td>\n",
              "      <td>NO_QUERY</td>\n",
              "      <td>ElleCTF</td>\n",
              "      <td>my whole body feels itchy and like its on fire</td>\n",
              "    </tr>\n",
              "    <tr>\n",
              "      <th>4</th>\n",
              "      <td>0</td>\n",
              "      <td>1467811193</td>\n",
              "      <td>Mon Apr 06 22:19:57 PDT 2009</td>\n",
              "      <td>NO_QUERY</td>\n",
              "      <td>Karoli</td>\n",
              "      <td>@nationwideclass no, it's not behaving at all....</td>\n",
              "    </tr>\n",
              "    <tr>\n",
              "      <th>5</th>\n",
              "      <td>0</td>\n",
              "      <td>1467811372</td>\n",
              "      <td>Mon Apr 06 22:20:00 PDT 2009</td>\n",
              "      <td>NO_QUERY</td>\n",
              "      <td>joy_wolf</td>\n",
              "      <td>@Kwesidei not the whole crew</td>\n",
              "    </tr>\n",
              "    <tr>\n",
              "      <th>6</th>\n",
              "      <td>0</td>\n",
              "      <td>1467811592</td>\n",
              "      <td>Mon Apr 06 22:20:03 PDT 2009</td>\n",
              "      <td>NO_QUERY</td>\n",
              "      <td>mybirch</td>\n",
              "      <td>Need a hug</td>\n",
              "    </tr>\n",
              "    <tr>\n",
              "      <th>7</th>\n",
              "      <td>0</td>\n",
              "      <td>1467811594</td>\n",
              "      <td>Mon Apr 06 22:20:03 PDT 2009</td>\n",
              "      <td>NO_QUERY</td>\n",
              "      <td>coZZ</td>\n",
              "      <td>@LOLTrish hey  long time no see! Yes.. Rains a...</td>\n",
              "    </tr>\n",
              "    <tr>\n",
              "      <th>8</th>\n",
              "      <td>0</td>\n",
              "      <td>1467811795</td>\n",
              "      <td>Mon Apr 06 22:20:05 PDT 2009</td>\n",
              "      <td>NO_QUERY</td>\n",
              "      <td>2Hood4Hollywood</td>\n",
              "      <td>@Tatiana_K nope they didn't have it</td>\n",
              "    </tr>\n",
              "    <tr>\n",
              "      <th>9</th>\n",
              "      <td>0</td>\n",
              "      <td>1467812025</td>\n",
              "      <td>Mon Apr 06 22:20:09 PDT 2009</td>\n",
              "      <td>NO_QUERY</td>\n",
              "      <td>mimismo</td>\n",
              "      <td>@twittera que me muera ?</td>\n",
              "    </tr>\n",
              "  </tbody>\n",
              "</table>\n",
              "</div>\n",
              "      <button class=\"colab-df-convert\" onclick=\"convertToInteractive('df-6f08e343-487f-414b-968c-b420e54cf81a')\"\n",
              "              title=\"Convert this dataframe to an interactive table.\"\n",
              "              style=\"display:none;\">\n",
              "        \n",
              "  <svg xmlns=\"http://www.w3.org/2000/svg\" height=\"24px\"viewBox=\"0 0 24 24\"\n",
              "       width=\"24px\">\n",
              "    <path d=\"M0 0h24v24H0V0z\" fill=\"none\"/>\n",
              "    <path d=\"M18.56 5.44l.94 2.06.94-2.06 2.06-.94-2.06-.94-.94-2.06-.94 2.06-2.06.94zm-11 1L8.5 8.5l.94-2.06 2.06-.94-2.06-.94L8.5 2.5l-.94 2.06-2.06.94zm10 10l.94 2.06.94-2.06 2.06-.94-2.06-.94-.94-2.06-.94 2.06-2.06.94z\"/><path d=\"M17.41 7.96l-1.37-1.37c-.4-.4-.92-.59-1.43-.59-.52 0-1.04.2-1.43.59L10.3 9.45l-7.72 7.72c-.78.78-.78 2.05 0 2.83L4 21.41c.39.39.9.59 1.41.59.51 0 1.02-.2 1.41-.59l7.78-7.78 2.81-2.81c.8-.78.8-2.07 0-2.86zM5.41 20L4 18.59l7.72-7.72 1.47 1.35L5.41 20z\"/>\n",
              "  </svg>\n",
              "      </button>\n",
              "      \n",
              "  <style>\n",
              "    .colab-df-container {\n",
              "      display:flex;\n",
              "      flex-wrap:wrap;\n",
              "      gap: 12px;\n",
              "    }\n",
              "\n",
              "    .colab-df-convert {\n",
              "      background-color: #E8F0FE;\n",
              "      border: none;\n",
              "      border-radius: 50%;\n",
              "      cursor: pointer;\n",
              "      display: none;\n",
              "      fill: #1967D2;\n",
              "      height: 32px;\n",
              "      padding: 0 0 0 0;\n",
              "      width: 32px;\n",
              "    }\n",
              "\n",
              "    .colab-df-convert:hover {\n",
              "      background-color: #E2EBFA;\n",
              "      box-shadow: 0px 1px 2px rgba(60, 64, 67, 0.3), 0px 1px 3px 1px rgba(60, 64, 67, 0.15);\n",
              "      fill: #174EA6;\n",
              "    }\n",
              "\n",
              "    [theme=dark] .colab-df-convert {\n",
              "      background-color: #3B4455;\n",
              "      fill: #D2E3FC;\n",
              "    }\n",
              "\n",
              "    [theme=dark] .colab-df-convert:hover {\n",
              "      background-color: #434B5C;\n",
              "      box-shadow: 0px 1px 3px 1px rgba(0, 0, 0, 0.15);\n",
              "      filter: drop-shadow(0px 1px 2px rgba(0, 0, 0, 0.3));\n",
              "      fill: #FFFFFF;\n",
              "    }\n",
              "  </style>\n",
              "\n",
              "      <script>\n",
              "        const buttonEl =\n",
              "          document.querySelector('#df-6f08e343-487f-414b-968c-b420e54cf81a button.colab-df-convert');\n",
              "        buttonEl.style.display =\n",
              "          google.colab.kernel.accessAllowed ? 'block' : 'none';\n",
              "\n",
              "        async function convertToInteractive(key) {\n",
              "          const element = document.querySelector('#df-6f08e343-487f-414b-968c-b420e54cf81a');\n",
              "          const dataTable =\n",
              "            await google.colab.kernel.invokeFunction('convertToInteractive',\n",
              "                                                     [key], {});\n",
              "          if (!dataTable) return;\n",
              "\n",
              "          const docLinkHtml = 'Like what you see? Visit the ' +\n",
              "            '<a target=\"_blank\" href=https://colab.research.google.com/notebooks/data_table.ipynb>data table notebook</a>'\n",
              "            + ' to learn more about interactive tables.';\n",
              "          element.innerHTML = '';\n",
              "          dataTable['output_type'] = 'display_data';\n",
              "          await google.colab.output.renderOutput(dataTable, element);\n",
              "          const docLink = document.createElement('div');\n",
              "          docLink.innerHTML = docLinkHtml;\n",
              "          element.appendChild(docLink);\n",
              "        }\n",
              "      </script>\n",
              "    </div>\n",
              "  </div>\n",
              "  "
            ]
          },
          "metadata": {},
          "execution_count": 86
        }
      ]
    },
    {
      "cell_type": "markdown",
      "source": [
        "#Checking the data is Balanced or not"
      ],
      "metadata": {
        "id": "wua3hxz_fjuO"
      }
    },
    {
      "cell_type": "code",
      "source": [
        "df['target'].unique()"
      ],
      "metadata": {
        "colab": {
          "base_uri": "https://localhost:8080/"
        },
        "id": "5_2OWNoLUFac",
        "outputId": "196b1c3f-7ef5-4ec7-b039-8523c0840c16"
      },
      "execution_count": null,
      "outputs": [
        {
          "output_type": "execute_result",
          "data": {
            "text/plain": [
              "array([0, 4])"
            ]
          },
          "metadata": {},
          "execution_count": 87
        }
      ]
    },
    {
      "cell_type": "code",
      "source": [
        "df['target'].value_counts()"
      ],
      "metadata": {
        "colab": {
          "base_uri": "https://localhost:8080/"
        },
        "id": "nbxnbzvBf0Ia",
        "outputId": "98a5d0de-cf85-4add-fde2-2b7de19b01c4"
      },
      "execution_count": null,
      "outputs": [
        {
          "output_type": "execute_result",
          "data": {
            "text/plain": [
              "0    800000\n",
              "4    800000\n",
              "Name: target, dtype: int64"
            ]
          },
          "metadata": {},
          "execution_count": 88
        }
      ]
    },
    {
      "cell_type": "markdown",
      "source": [
        "##Removing unnecessary symbols,punctuations etc\n",
        "##Stemming,Removing Stopwords\n",
        "##Data Cleaning "
      ],
      "metadata": {
        "id": "P0ATZGIBgmg2"
      }
    },
    {
      "cell_type": "code",
      "source": [
        "import nltk\n",
        "import re\n",
        "from nltk.corpus import stopwords\n",
        "from  nltk.stem import SnowballStemmer\n",
        "stop_words = stopwords.words(\"english\")\n",
        "stemmer = SnowballStemmer(\"english\")\n",
        "TEXT_CLEANING_RE = \"@\\S+|https?:\\S+|http?:\\S|[^A-Za-z0-9]+\"\n",
        "def preprocess(text, stem=False):\n",
        "    # Remove link,user and special characters\n",
        "    text = re.sub(TEXT_CLEANING_RE, ' ', str(text).lower()).strip()\n",
        "    tokens = []\n",
        "    for token in text.split():\n",
        "        if token not in stop_words:\n",
        "            if stem:\n",
        "                tokens.append(stemmer.stem(token))\n",
        "            else:\n",
        "                tokens.append(token)\n",
        "    return \" \".join(tokens)\n",
        "df['text'] = df['text'].apply(lambda x: preprocess(x))"
      ],
      "metadata": {
        "id": "57TwV0Axgj3M"
      },
      "execution_count": null,
      "outputs": []
    },
    {
      "cell_type": "markdown",
      "source": [
        "##Tokenization\n",
        "##Converting words into Vectors by using CountVectorizer and TF-IDF techniques"
      ],
      "metadata": {
        "id": "8L8ZpQj4QQ_E"
      }
    },
    {
      "cell_type": "code",
      "source": [
        "from nltk.tokenize import RegexpTokenizer\n",
        "token = RegexpTokenizer(r'[a-zA-Z0-9]+')\n",
        "from sklearn.feature_extraction.text import CountVectorizer,TfidfVectorizer\n",
        "cv = TfidfVectorizer(stop_words='english',ngram_range = (1,3),tokenizer = token.tokenize)\n",
        "text_counts = cv.fit_transform(df['text'])"
      ],
      "metadata": {
        "id": "GuB9wWzvKbSG"
      },
      "execution_count": null,
      "outputs": []
    },
    {
      "cell_type": "markdown",
      "source": [
        "##Spliting the data into Training and Testing"
      ],
      "metadata": {
        "id": "QkgQkzF3Q4wy"
      }
    },
    {
      "cell_type": "code",
      "source": [
        "#Splitting the data into trainig and testing\n",
        "from sklearn.model_selection import train_test_split\n",
        "X_train, X_test, Y_train, Y_test = train_test_split(text_counts, df['target'], test_size=0.25, random_state=5)"
      ],
      "metadata": {
        "id": "4-QX8VpfQois"
      },
      "execution_count": null,
      "outputs": []
    },
    {
      "cell_type": "markdown",
      "source": [
        "##Model Training"
      ],
      "metadata": {
        "id": "NYQRDJSpRARP"
      }
    },
    {
      "cell_type": "code",
      "source": [
        "#Training the model\n",
        "from sklearn.naive_bayes import MultinomialNB\n",
        "MNB = MultinomialNB()\n",
        "MNB.fit(X_train, Y_train)"
      ],
      "metadata": {
        "colab": {
          "base_uri": "https://localhost:8080/"
        },
        "id": "efkfTjrFQviG",
        "outputId": "d81ec984-b181-4828-c50a-c2f8fc08a71a"
      },
      "execution_count": null,
      "outputs": [
        {
          "output_type": "execute_result",
          "data": {
            "text/plain": [
              "MultinomialNB()"
            ]
          },
          "metadata": {},
          "execution_count": 92
        }
      ]
    },
    {
      "cell_type": "markdown",
      "source": [
        "##Calculating Accuracy"
      ],
      "metadata": {
        "id": "YSQ8RUUkRD84"
      }
    },
    {
      "cell_type": "code",
      "source": [
        "#Caluclating the accuracy score of the model\n",
        "from sklearn import metrics\n",
        "predicted = MNB.predict(X_test)\n",
        "accuracy_score = metrics.accuracy_score(predicted, Y_test)\n",
        "print(\"Accuracy Score: \",accuracy_score)"
      ],
      "metadata": {
        "colab": {
          "base_uri": "https://localhost:8080/"
        },
        "id": "MtjNAIADQyhB",
        "outputId": "58cdee04-c51b-47de-a123-0c01ead6ee8b"
      },
      "execution_count": null,
      "outputs": [
        {
          "output_type": "stream",
          "name": "stdout",
          "text": [
            "Accuracy Score:  0.7722875\n"
          ]
        }
      ]
    },
    {
      "cell_type": "markdown",
      "source": [
        "##Creating Confustion matrics"
      ],
      "metadata": {
        "id": "Gy8BHFiHRLF4"
      }
    },
    {
      "cell_type": "code",
      "source": [
        "from sklearn.metrics import confusion_matrix\n",
        "confusion_matrix(predicted, Y_test)"
      ],
      "metadata": {
        "colab": {
          "base_uri": "https://localhost:8080/"
        },
        "id": "7gjs4bxNQ0QI",
        "outputId": "cb96b6cb-4605-417c-f4fd-c6a2ca858c3d"
      },
      "execution_count": null,
      "outputs": [
        {
          "output_type": "execute_result",
          "data": {
            "text/plain": [
              "array([[155877,  47066],\n",
              "       [ 44019, 153038]])"
            ]
          },
          "metadata": {},
          "execution_count": 94
        }
      ]
    },
    {
      "cell_type": "code",
      "source": [],
      "metadata": {
        "id": "kUJbmEBqhXkW"
      },
      "execution_count": null,
      "outputs": []
    },
    {
      "cell_type": "markdown",
      "source": [
        "#PROJECT-3 (INSTAGRAM INFLUENCERS)"
      ],
      "metadata": {
        "id": "3rFa8B62hPm4"
      }
    },
    {
      "cell_type": "code",
      "source": [
        "import pandas as pd\n",
        "df = pd.read_csv('/content/Influencer.xlsx - Influencer.csv')\n",
        "df.head(10)"
      ],
      "metadata": {
        "id": "jxEPot3BmR9_",
        "colab": {
          "base_uri": "https://localhost:8080/",
          "height": 600
        },
        "outputId": "24875a48-de4f-4bcf-a51e-836ca161440e"
      },
      "execution_count": 1,
      "outputs": [
        {
          "output_type": "execute_result",
          "data": {
            "text/plain": [
              "   Rank       Channel Info  Influence Score Followers Avg. Likes Posts  \\\n",
              "0     1        \\ncristiano               92    485.2m       8.7m  3.4k   \n",
              "1     2        kyliejenner               91    370.7m       8.2m  7.0k   \n",
              "2     3         \\nleomessi               90    363.9m       6.7m   915   \n",
              "3     4      \\nselenagomez               93    348.8m       6.1m  1.9k   \n",
              "4     5          \\ntherock               91    339.4m       1.8m  6.8k   \n",
              "5     6     \\narianagrande               92    333.0m       3.7m  5.0k   \n",
              "6     7    \\nkimkardashian               91    330.7m       3.5m  5.7k   \n",
              "7     8          \\nbeyonce               92    276.1m       3.6m  2.0k   \n",
              "8     9  \\nkhloekardashian               89    273.9m       2.4m  4.1k   \n",
              "9    10     \\njustinbieber               91    260.0m       1.9m  7.4k   \n",
              "\n",
              "   60-Day Eng Rate New Post Avg. Likes Total Likes Country Or Region  \n",
              "0            0.013                6.3m       29.1b             Spain  \n",
              "1            0.014                5.0m       57.4b     United States  \n",
              "2            0.010                3.5m        6.1b               NaN  \n",
              "3            0.005                1.7m       11.4b     United States  \n",
              "4            0.003              932.0k       12.6b     United States  \n",
              "5            0.009                3.1m       18.5b     United States  \n",
              "6            0.005                1.7m       19.8b     United States  \n",
              "7            0.008                2.2m        7.3b     United States  \n",
              "8            0.002              404.7k        9.8b     United States  \n",
              "9            0.007                1.7m       14.0b            Canada  "
            ],
            "text/html": [
              "\n",
              "  <div id=\"df-9c01f099-5605-45a4-a557-983a49af2f6e\">\n",
              "    <div class=\"colab-df-container\">\n",
              "      <div>\n",
              "<style scoped>\n",
              "    .dataframe tbody tr th:only-of-type {\n",
              "        vertical-align: middle;\n",
              "    }\n",
              "\n",
              "    .dataframe tbody tr th {\n",
              "        vertical-align: top;\n",
              "    }\n",
              "\n",
              "    .dataframe thead th {\n",
              "        text-align: right;\n",
              "    }\n",
              "</style>\n",
              "<table border=\"1\" class=\"dataframe\">\n",
              "  <thead>\n",
              "    <tr style=\"text-align: right;\">\n",
              "      <th></th>\n",
              "      <th>Rank</th>\n",
              "      <th>Channel Info</th>\n",
              "      <th>Influence Score</th>\n",
              "      <th>Followers</th>\n",
              "      <th>Avg. Likes</th>\n",
              "      <th>Posts</th>\n",
              "      <th>60-Day Eng Rate</th>\n",
              "      <th>New Post Avg. Likes</th>\n",
              "      <th>Total Likes</th>\n",
              "      <th>Country Or Region</th>\n",
              "    </tr>\n",
              "  </thead>\n",
              "  <tbody>\n",
              "    <tr>\n",
              "      <th>0</th>\n",
              "      <td>1</td>\n",
              "      <td>\\ncristiano</td>\n",
              "      <td>92</td>\n",
              "      <td>485.2m</td>\n",
              "      <td>8.7m</td>\n",
              "      <td>3.4k</td>\n",
              "      <td>0.013</td>\n",
              "      <td>6.3m</td>\n",
              "      <td>29.1b</td>\n",
              "      <td>Spain</td>\n",
              "    </tr>\n",
              "    <tr>\n",
              "      <th>1</th>\n",
              "      <td>2</td>\n",
              "      <td>kyliejenner</td>\n",
              "      <td>91</td>\n",
              "      <td>370.7m</td>\n",
              "      <td>8.2m</td>\n",
              "      <td>7.0k</td>\n",
              "      <td>0.014</td>\n",
              "      <td>5.0m</td>\n",
              "      <td>57.4b</td>\n",
              "      <td>United States</td>\n",
              "    </tr>\n",
              "    <tr>\n",
              "      <th>2</th>\n",
              "      <td>3</td>\n",
              "      <td>\\nleomessi</td>\n",
              "      <td>90</td>\n",
              "      <td>363.9m</td>\n",
              "      <td>6.7m</td>\n",
              "      <td>915</td>\n",
              "      <td>0.010</td>\n",
              "      <td>3.5m</td>\n",
              "      <td>6.1b</td>\n",
              "      <td>NaN</td>\n",
              "    </tr>\n",
              "    <tr>\n",
              "      <th>3</th>\n",
              "      <td>4</td>\n",
              "      <td>\\nselenagomez</td>\n",
              "      <td>93</td>\n",
              "      <td>348.8m</td>\n",
              "      <td>6.1m</td>\n",
              "      <td>1.9k</td>\n",
              "      <td>0.005</td>\n",
              "      <td>1.7m</td>\n",
              "      <td>11.4b</td>\n",
              "      <td>United States</td>\n",
              "    </tr>\n",
              "    <tr>\n",
              "      <th>4</th>\n",
              "      <td>5</td>\n",
              "      <td>\\ntherock</td>\n",
              "      <td>91</td>\n",
              "      <td>339.4m</td>\n",
              "      <td>1.8m</td>\n",
              "      <td>6.8k</td>\n",
              "      <td>0.003</td>\n",
              "      <td>932.0k</td>\n",
              "      <td>12.6b</td>\n",
              "      <td>United States</td>\n",
              "    </tr>\n",
              "    <tr>\n",
              "      <th>5</th>\n",
              "      <td>6</td>\n",
              "      <td>\\narianagrande</td>\n",
              "      <td>92</td>\n",
              "      <td>333.0m</td>\n",
              "      <td>3.7m</td>\n",
              "      <td>5.0k</td>\n",
              "      <td>0.009</td>\n",
              "      <td>3.1m</td>\n",
              "      <td>18.5b</td>\n",
              "      <td>United States</td>\n",
              "    </tr>\n",
              "    <tr>\n",
              "      <th>6</th>\n",
              "      <td>7</td>\n",
              "      <td>\\nkimkardashian</td>\n",
              "      <td>91</td>\n",
              "      <td>330.7m</td>\n",
              "      <td>3.5m</td>\n",
              "      <td>5.7k</td>\n",
              "      <td>0.005</td>\n",
              "      <td>1.7m</td>\n",
              "      <td>19.8b</td>\n",
              "      <td>United States</td>\n",
              "    </tr>\n",
              "    <tr>\n",
              "      <th>7</th>\n",
              "      <td>8</td>\n",
              "      <td>\\nbeyonce</td>\n",
              "      <td>92</td>\n",
              "      <td>276.1m</td>\n",
              "      <td>3.6m</td>\n",
              "      <td>2.0k</td>\n",
              "      <td>0.008</td>\n",
              "      <td>2.2m</td>\n",
              "      <td>7.3b</td>\n",
              "      <td>United States</td>\n",
              "    </tr>\n",
              "    <tr>\n",
              "      <th>8</th>\n",
              "      <td>9</td>\n",
              "      <td>\\nkhloekardashian</td>\n",
              "      <td>89</td>\n",
              "      <td>273.9m</td>\n",
              "      <td>2.4m</td>\n",
              "      <td>4.1k</td>\n",
              "      <td>0.002</td>\n",
              "      <td>404.7k</td>\n",
              "      <td>9.8b</td>\n",
              "      <td>United States</td>\n",
              "    </tr>\n",
              "    <tr>\n",
              "      <th>9</th>\n",
              "      <td>10</td>\n",
              "      <td>\\njustinbieber</td>\n",
              "      <td>91</td>\n",
              "      <td>260.0m</td>\n",
              "      <td>1.9m</td>\n",
              "      <td>7.4k</td>\n",
              "      <td>0.007</td>\n",
              "      <td>1.7m</td>\n",
              "      <td>14.0b</td>\n",
              "      <td>Canada</td>\n",
              "    </tr>\n",
              "  </tbody>\n",
              "</table>\n",
              "</div>\n",
              "      <button class=\"colab-df-convert\" onclick=\"convertToInteractive('df-9c01f099-5605-45a4-a557-983a49af2f6e')\"\n",
              "              title=\"Convert this dataframe to an interactive table.\"\n",
              "              style=\"display:none;\">\n",
              "        \n",
              "  <svg xmlns=\"http://www.w3.org/2000/svg\" height=\"24px\"viewBox=\"0 0 24 24\"\n",
              "       width=\"24px\">\n",
              "    <path d=\"M0 0h24v24H0V0z\" fill=\"none\"/>\n",
              "    <path d=\"M18.56 5.44l.94 2.06.94-2.06 2.06-.94-2.06-.94-.94-2.06-.94 2.06-2.06.94zm-11 1L8.5 8.5l.94-2.06 2.06-.94-2.06-.94L8.5 2.5l-.94 2.06-2.06.94zm10 10l.94 2.06.94-2.06 2.06-.94-2.06-.94-.94-2.06-.94 2.06-2.06.94z\"/><path d=\"M17.41 7.96l-1.37-1.37c-.4-.4-.92-.59-1.43-.59-.52 0-1.04.2-1.43.59L10.3 9.45l-7.72 7.72c-.78.78-.78 2.05 0 2.83L4 21.41c.39.39.9.59 1.41.59.51 0 1.02-.2 1.41-.59l7.78-7.78 2.81-2.81c.8-.78.8-2.07 0-2.86zM5.41 20L4 18.59l7.72-7.72 1.47 1.35L5.41 20z\"/>\n",
              "  </svg>\n",
              "      </button>\n",
              "      \n",
              "  <style>\n",
              "    .colab-df-container {\n",
              "      display:flex;\n",
              "      flex-wrap:wrap;\n",
              "      gap: 12px;\n",
              "    }\n",
              "\n",
              "    .colab-df-convert {\n",
              "      background-color: #E8F0FE;\n",
              "      border: none;\n",
              "      border-radius: 50%;\n",
              "      cursor: pointer;\n",
              "      display: none;\n",
              "      fill: #1967D2;\n",
              "      height: 32px;\n",
              "      padding: 0 0 0 0;\n",
              "      width: 32px;\n",
              "    }\n",
              "\n",
              "    .colab-df-convert:hover {\n",
              "      background-color: #E2EBFA;\n",
              "      box-shadow: 0px 1px 2px rgba(60, 64, 67, 0.3), 0px 1px 3px 1px rgba(60, 64, 67, 0.15);\n",
              "      fill: #174EA6;\n",
              "    }\n",
              "\n",
              "    [theme=dark] .colab-df-convert {\n",
              "      background-color: #3B4455;\n",
              "      fill: #D2E3FC;\n",
              "    }\n",
              "\n",
              "    [theme=dark] .colab-df-convert:hover {\n",
              "      background-color: #434B5C;\n",
              "      box-shadow: 0px 1px 3px 1px rgba(0, 0, 0, 0.15);\n",
              "      filter: drop-shadow(0px 1px 2px rgba(0, 0, 0, 0.3));\n",
              "      fill: #FFFFFF;\n",
              "    }\n",
              "  </style>\n",
              "\n",
              "      <script>\n",
              "        const buttonEl =\n",
              "          document.querySelector('#df-9c01f099-5605-45a4-a557-983a49af2f6e button.colab-df-convert');\n",
              "        buttonEl.style.display =\n",
              "          google.colab.kernel.accessAllowed ? 'block' : 'none';\n",
              "\n",
              "        async function convertToInteractive(key) {\n",
              "          const element = document.querySelector('#df-9c01f099-5605-45a4-a557-983a49af2f6e');\n",
              "          const dataTable =\n",
              "            await google.colab.kernel.invokeFunction('convertToInteractive',\n",
              "                                                     [key], {});\n",
              "          if (!dataTable) return;\n",
              "\n",
              "          const docLinkHtml = 'Like what you see? Visit the ' +\n",
              "            '<a target=\"_blank\" href=https://colab.research.google.com/notebooks/data_table.ipynb>data table notebook</a>'\n",
              "            + ' to learn more about interactive tables.';\n",
              "          element.innerHTML = '';\n",
              "          dataTable['output_type'] = 'display_data';\n",
              "          await google.colab.output.renderOutput(dataTable, element);\n",
              "          const docLink = document.createElement('div');\n",
              "          docLink.innerHTML = docLinkHtml;\n",
              "          element.appendChild(docLink);\n",
              "        }\n",
              "      </script>\n",
              "    </div>\n",
              "  </div>\n",
              "  "
            ]
          },
          "metadata": {},
          "execution_count": 1
        }
      ]
    },
    {
      "cell_type": "code",
      "source": [
        "df.shape"
      ],
      "metadata": {
        "colab": {
          "base_uri": "https://localhost:8080/"
        },
        "id": "8T3RpTjk3t8E",
        "outputId": "a049c215-8380-45b2-8208-6e59cda9b98e"
      },
      "execution_count": 2,
      "outputs": [
        {
          "output_type": "execute_result",
          "data": {
            "text/plain": [
              "(200, 10)"
            ]
          },
          "metadata": {},
          "execution_count": 2
        }
      ]
    },
    {
      "cell_type": "markdown",
      "source": [
        "##Checking for Null values"
      ],
      "metadata": {
        "id": "S-qTkMq9iC_o"
      }
    },
    {
      "cell_type": "code",
      "source": [
        "df.isnull().sum()"
      ],
      "metadata": {
        "colab": {
          "base_uri": "https://localhost:8080/"
        },
        "id": "gTEQjnTChr1B",
        "outputId": "dd3c59ec-c4b6-4dd9-a3cb-485b414f6517"
      },
      "execution_count": 3,
      "outputs": [
        {
          "output_type": "execute_result",
          "data": {
            "text/plain": [
              "Rank                    0\n",
              "Channel Info            0\n",
              "Influence Score         0\n",
              "Followers               0\n",
              "Avg. Likes              0\n",
              "Posts                   0\n",
              "60-Day Eng Rate         0\n",
              "New Post Avg. Likes     0\n",
              "Total Likes             0\n",
              "Country Or Region      63\n",
              "dtype: int64"
            ]
          },
          "metadata": {},
          "execution_count": 3
        }
      ]
    },
    {
      "cell_type": "code",
      "source": [
        "df['Country Or Region'].mode()[0]"
      ],
      "metadata": {
        "colab": {
          "base_uri": "https://localhost:8080/",
          "height": 36
        },
        "id": "jr2zXAWK5R4q",
        "outputId": "8483a9a7-b0ad-4911-f7f3-49d99fbd643b"
      },
      "execution_count": 4,
      "outputs": [
        {
          "output_type": "execute_result",
          "data": {
            "text/plain": [
              "'United States'"
            ],
            "application/vnd.google.colaboratory.intrinsic+json": {
              "type": "string"
            }
          },
          "metadata": {},
          "execution_count": 4
        }
      ]
    },
    {
      "cell_type": "code",
      "source": [
        "df['Country Or Region'] = df['Country Or Region'].fillna(df['Country Or Region'].mode()[0])"
      ],
      "metadata": {
        "id": "RndjLq95jysi"
      },
      "execution_count": 5,
      "outputs": []
    },
    {
      "cell_type": "code",
      "source": [
        "df.isnull().sum()"
      ],
      "metadata": {
        "colab": {
          "base_uri": "https://localhost:8080/"
        },
        "id": "CQHw6iHc3dyL",
        "outputId": "7c8203e2-3ea3-4abb-ab84-09e4e2f45e8c"
      },
      "execution_count": 6,
      "outputs": [
        {
          "output_type": "execute_result",
          "data": {
            "text/plain": [
              "Rank                   0\n",
              "Channel Info           0\n",
              "Influence Score        0\n",
              "Followers              0\n",
              "Avg. Likes             0\n",
              "Posts                  0\n",
              "60-Day Eng Rate        0\n",
              "New Post Avg. Likes    0\n",
              "Total Likes            0\n",
              "Country Or Region      0\n",
              "dtype: int64"
            ]
          },
          "metadata": {},
          "execution_count": 6
        }
      ]
    },
    {
      "cell_type": "code",
      "source": [
        "df"
      ],
      "metadata": {
        "colab": {
          "base_uri": "https://localhost:8080/",
          "height": 609
        },
        "id": "BH3f_too3gJn",
        "outputId": "5e918a64-6d54-409f-bd5d-d51b2e7ac3dd"
      },
      "execution_count": 7,
      "outputs": [
        {
          "output_type": "execute_result",
          "data": {
            "text/plain": [
              "     Rank           Channel Info  Influence Score Followers Avg. Likes Posts  \\\n",
              "0       1            \\ncristiano               92    485.2m       8.7m  3.4k   \n",
              "1       2            kyliejenner               91    370.7m       8.2m  7.0k   \n",
              "2       3             \\nleomessi               90    363.9m       6.7m   915   \n",
              "3       4          \\nselenagomez               93    348.8m       6.1m  1.9k   \n",
              "4       5              \\ntherock               91    339.4m       1.8m  6.8k   \n",
              "..    ...                    ...              ...       ...        ...   ...   \n",
              "195   196  \\nkhabib_nurmagomedov               63     33.6m     680.6k  4.6k   \n",
              "196   197         \\ndanbilzerian               84     33.6m       2.2m  1.4k   \n",
              "197   198            \\nraisa6690               80     33.6m     227.8k  4.2k   \n",
              "198   199          \\nluansantana               79     33.5m     193.3k   865   \n",
              "199   200           \\nnancyajram               81     33.4m     382.5k  3.8k   \n",
              "\n",
              "     60-Day Eng Rate New Post Avg. Likes Total Likes Country Or Region  \n",
              "0              0.013                6.3m       29.1b             Spain  \n",
              "1              0.014                5.0m       57.4b     United States  \n",
              "2              0.010                3.5m        6.1b     United States  \n",
              "3              0.005                1.7m       11.4b     United States  \n",
              "4              0.003              932.0k       12.6b     United States  \n",
              "..               ...                 ...         ...               ...  \n",
              "195            0.009              305.7k        3.1b            Russia  \n",
              "196            0.064                2.1m        3.0b            Canada  \n",
              "197            0.003              103.2k      955.9m         Indonesia  \n",
              "198            0.003               82.6k      167.2m            Brazil  \n",
              "199            0.004              128.2k        1.5b            France  \n",
              "\n",
              "[200 rows x 10 columns]"
            ],
            "text/html": [
              "\n",
              "  <div id=\"df-a163d5fe-5ef1-476f-9bcb-f14cad98dcc1\">\n",
              "    <div class=\"colab-df-container\">\n",
              "      <div>\n",
              "<style scoped>\n",
              "    .dataframe tbody tr th:only-of-type {\n",
              "        vertical-align: middle;\n",
              "    }\n",
              "\n",
              "    .dataframe tbody tr th {\n",
              "        vertical-align: top;\n",
              "    }\n",
              "\n",
              "    .dataframe thead th {\n",
              "        text-align: right;\n",
              "    }\n",
              "</style>\n",
              "<table border=\"1\" class=\"dataframe\">\n",
              "  <thead>\n",
              "    <tr style=\"text-align: right;\">\n",
              "      <th></th>\n",
              "      <th>Rank</th>\n",
              "      <th>Channel Info</th>\n",
              "      <th>Influence Score</th>\n",
              "      <th>Followers</th>\n",
              "      <th>Avg. Likes</th>\n",
              "      <th>Posts</th>\n",
              "      <th>60-Day Eng Rate</th>\n",
              "      <th>New Post Avg. Likes</th>\n",
              "      <th>Total Likes</th>\n",
              "      <th>Country Or Region</th>\n",
              "    </tr>\n",
              "  </thead>\n",
              "  <tbody>\n",
              "    <tr>\n",
              "      <th>0</th>\n",
              "      <td>1</td>\n",
              "      <td>\\ncristiano</td>\n",
              "      <td>92</td>\n",
              "      <td>485.2m</td>\n",
              "      <td>8.7m</td>\n",
              "      <td>3.4k</td>\n",
              "      <td>0.013</td>\n",
              "      <td>6.3m</td>\n",
              "      <td>29.1b</td>\n",
              "      <td>Spain</td>\n",
              "    </tr>\n",
              "    <tr>\n",
              "      <th>1</th>\n",
              "      <td>2</td>\n",
              "      <td>kyliejenner</td>\n",
              "      <td>91</td>\n",
              "      <td>370.7m</td>\n",
              "      <td>8.2m</td>\n",
              "      <td>7.0k</td>\n",
              "      <td>0.014</td>\n",
              "      <td>5.0m</td>\n",
              "      <td>57.4b</td>\n",
              "      <td>United States</td>\n",
              "    </tr>\n",
              "    <tr>\n",
              "      <th>2</th>\n",
              "      <td>3</td>\n",
              "      <td>\\nleomessi</td>\n",
              "      <td>90</td>\n",
              "      <td>363.9m</td>\n",
              "      <td>6.7m</td>\n",
              "      <td>915</td>\n",
              "      <td>0.010</td>\n",
              "      <td>3.5m</td>\n",
              "      <td>6.1b</td>\n",
              "      <td>United States</td>\n",
              "    </tr>\n",
              "    <tr>\n",
              "      <th>3</th>\n",
              "      <td>4</td>\n",
              "      <td>\\nselenagomez</td>\n",
              "      <td>93</td>\n",
              "      <td>348.8m</td>\n",
              "      <td>6.1m</td>\n",
              "      <td>1.9k</td>\n",
              "      <td>0.005</td>\n",
              "      <td>1.7m</td>\n",
              "      <td>11.4b</td>\n",
              "      <td>United States</td>\n",
              "    </tr>\n",
              "    <tr>\n",
              "      <th>4</th>\n",
              "      <td>5</td>\n",
              "      <td>\\ntherock</td>\n",
              "      <td>91</td>\n",
              "      <td>339.4m</td>\n",
              "      <td>1.8m</td>\n",
              "      <td>6.8k</td>\n",
              "      <td>0.003</td>\n",
              "      <td>932.0k</td>\n",
              "      <td>12.6b</td>\n",
              "      <td>United States</td>\n",
              "    </tr>\n",
              "    <tr>\n",
              "      <th>...</th>\n",
              "      <td>...</td>\n",
              "      <td>...</td>\n",
              "      <td>...</td>\n",
              "      <td>...</td>\n",
              "      <td>...</td>\n",
              "      <td>...</td>\n",
              "      <td>...</td>\n",
              "      <td>...</td>\n",
              "      <td>...</td>\n",
              "      <td>...</td>\n",
              "    </tr>\n",
              "    <tr>\n",
              "      <th>195</th>\n",
              "      <td>196</td>\n",
              "      <td>\\nkhabib_nurmagomedov</td>\n",
              "      <td>63</td>\n",
              "      <td>33.6m</td>\n",
              "      <td>680.6k</td>\n",
              "      <td>4.6k</td>\n",
              "      <td>0.009</td>\n",
              "      <td>305.7k</td>\n",
              "      <td>3.1b</td>\n",
              "      <td>Russia</td>\n",
              "    </tr>\n",
              "    <tr>\n",
              "      <th>196</th>\n",
              "      <td>197</td>\n",
              "      <td>\\ndanbilzerian</td>\n",
              "      <td>84</td>\n",
              "      <td>33.6m</td>\n",
              "      <td>2.2m</td>\n",
              "      <td>1.4k</td>\n",
              "      <td>0.064</td>\n",
              "      <td>2.1m</td>\n",
              "      <td>3.0b</td>\n",
              "      <td>Canada</td>\n",
              "    </tr>\n",
              "    <tr>\n",
              "      <th>197</th>\n",
              "      <td>198</td>\n",
              "      <td>\\nraisa6690</td>\n",
              "      <td>80</td>\n",
              "      <td>33.6m</td>\n",
              "      <td>227.8k</td>\n",
              "      <td>4.2k</td>\n",
              "      <td>0.003</td>\n",
              "      <td>103.2k</td>\n",
              "      <td>955.9m</td>\n",
              "      <td>Indonesia</td>\n",
              "    </tr>\n",
              "    <tr>\n",
              "      <th>198</th>\n",
              "      <td>199</td>\n",
              "      <td>\\nluansantana</td>\n",
              "      <td>79</td>\n",
              "      <td>33.5m</td>\n",
              "      <td>193.3k</td>\n",
              "      <td>865</td>\n",
              "      <td>0.003</td>\n",
              "      <td>82.6k</td>\n",
              "      <td>167.2m</td>\n",
              "      <td>Brazil</td>\n",
              "    </tr>\n",
              "    <tr>\n",
              "      <th>199</th>\n",
              "      <td>200</td>\n",
              "      <td>\\nnancyajram</td>\n",
              "      <td>81</td>\n",
              "      <td>33.4m</td>\n",
              "      <td>382.5k</td>\n",
              "      <td>3.8k</td>\n",
              "      <td>0.004</td>\n",
              "      <td>128.2k</td>\n",
              "      <td>1.5b</td>\n",
              "      <td>France</td>\n",
              "    </tr>\n",
              "  </tbody>\n",
              "</table>\n",
              "<p>200 rows × 10 columns</p>\n",
              "</div>\n",
              "      <button class=\"colab-df-convert\" onclick=\"convertToInteractive('df-a163d5fe-5ef1-476f-9bcb-f14cad98dcc1')\"\n",
              "              title=\"Convert this dataframe to an interactive table.\"\n",
              "              style=\"display:none;\">\n",
              "        \n",
              "  <svg xmlns=\"http://www.w3.org/2000/svg\" height=\"24px\"viewBox=\"0 0 24 24\"\n",
              "       width=\"24px\">\n",
              "    <path d=\"M0 0h24v24H0V0z\" fill=\"none\"/>\n",
              "    <path d=\"M18.56 5.44l.94 2.06.94-2.06 2.06-.94-2.06-.94-.94-2.06-.94 2.06-2.06.94zm-11 1L8.5 8.5l.94-2.06 2.06-.94-2.06-.94L8.5 2.5l-.94 2.06-2.06.94zm10 10l.94 2.06.94-2.06 2.06-.94-2.06-.94-.94-2.06-.94 2.06-2.06.94z\"/><path d=\"M17.41 7.96l-1.37-1.37c-.4-.4-.92-.59-1.43-.59-.52 0-1.04.2-1.43.59L10.3 9.45l-7.72 7.72c-.78.78-.78 2.05 0 2.83L4 21.41c.39.39.9.59 1.41.59.51 0 1.02-.2 1.41-.59l7.78-7.78 2.81-2.81c.8-.78.8-2.07 0-2.86zM5.41 20L4 18.59l7.72-7.72 1.47 1.35L5.41 20z\"/>\n",
              "  </svg>\n",
              "      </button>\n",
              "      \n",
              "  <style>\n",
              "    .colab-df-container {\n",
              "      display:flex;\n",
              "      flex-wrap:wrap;\n",
              "      gap: 12px;\n",
              "    }\n",
              "\n",
              "    .colab-df-convert {\n",
              "      background-color: #E8F0FE;\n",
              "      border: none;\n",
              "      border-radius: 50%;\n",
              "      cursor: pointer;\n",
              "      display: none;\n",
              "      fill: #1967D2;\n",
              "      height: 32px;\n",
              "      padding: 0 0 0 0;\n",
              "      width: 32px;\n",
              "    }\n",
              "\n",
              "    .colab-df-convert:hover {\n",
              "      background-color: #E2EBFA;\n",
              "      box-shadow: 0px 1px 2px rgba(60, 64, 67, 0.3), 0px 1px 3px 1px rgba(60, 64, 67, 0.15);\n",
              "      fill: #174EA6;\n",
              "    }\n",
              "\n",
              "    [theme=dark] .colab-df-convert {\n",
              "      background-color: #3B4455;\n",
              "      fill: #D2E3FC;\n",
              "    }\n",
              "\n",
              "    [theme=dark] .colab-df-convert:hover {\n",
              "      background-color: #434B5C;\n",
              "      box-shadow: 0px 1px 3px 1px rgba(0, 0, 0, 0.15);\n",
              "      filter: drop-shadow(0px 1px 2px rgba(0, 0, 0, 0.3));\n",
              "      fill: #FFFFFF;\n",
              "    }\n",
              "  </style>\n",
              "\n",
              "      <script>\n",
              "        const buttonEl =\n",
              "          document.querySelector('#df-a163d5fe-5ef1-476f-9bcb-f14cad98dcc1 button.colab-df-convert');\n",
              "        buttonEl.style.display =\n",
              "          google.colab.kernel.accessAllowed ? 'block' : 'none';\n",
              "\n",
              "        async function convertToInteractive(key) {\n",
              "          const element = document.querySelector('#df-a163d5fe-5ef1-476f-9bcb-f14cad98dcc1');\n",
              "          const dataTable =\n",
              "            await google.colab.kernel.invokeFunction('convertToInteractive',\n",
              "                                                     [key], {});\n",
              "          if (!dataTable) return;\n",
              "\n",
              "          const docLinkHtml = 'Like what you see? Visit the ' +\n",
              "            '<a target=\"_blank\" href=https://colab.research.google.com/notebooks/data_table.ipynb>data table notebook</a>'\n",
              "            + ' to learn more about interactive tables.';\n",
              "          element.innerHTML = '';\n",
              "          dataTable['output_type'] = 'display_data';\n",
              "          await google.colab.output.renderOutput(dataTable, element);\n",
              "          const docLink = document.createElement('div');\n",
              "          docLink.innerHTML = docLinkHtml;\n",
              "          element.appendChild(docLink);\n",
              "        }\n",
              "      </script>\n",
              "    </div>\n",
              "  </div>\n",
              "  "
            ]
          },
          "metadata": {},
          "execution_count": 7
        }
      ]
    },
    {
      "cell_type": "markdown",
      "source": [
        "#Data Cleaning"
      ],
      "metadata": {
        "id": "qGdZL4PK7jls"
      }
    },
    {
      "cell_type": "code",
      "source": [
        "followers=list(df['Followers'])\n",
        "followers1=list()\n",
        "for num in followers:\n",
        "    if 'm' in num:\n",
        "        new_num=1000000*float(num.replace('m',''))\n",
        "        followers1.append(new_num)\n",
        "    else:\n",
        "      followers1.append(float(num))\n",
        "df['Followers']=followers1"
      ],
      "metadata": {
        "id": "DHjIhprH5czG"
      },
      "execution_count": 8,
      "outputs": []
    },
    {
      "cell_type": "code",
      "source": [
        "Avg_Likes = list(df['Avg. Likes'])\n",
        "Avg_Likes_updated = []\n",
        "for j in Avg_Likes:\n",
        "  if 'm' in j:\n",
        "    j_updated = 1000000*(float(j.replace('m','')))\n",
        "    Avg_Likes_updated.append(j_updated)\n",
        "  else:\n",
        "    j_updated = 1000*(float(j.replace('k',\"\")))\n",
        "    Avg_Likes_updated.append(j_updated)\n",
        "df['Avg. Likes'] = Avg_Likes_updated"
      ],
      "metadata": {
        "id": "HBC1GLXIBYOM"
      },
      "execution_count": 9,
      "outputs": []
    },
    {
      "cell_type": "code",
      "source": [
        "posts = list(df['Posts'])\n",
        "Post_updated = []\n",
        "for x in posts:\n",
        "  if 'k' in x:\n",
        "    x_updated = 1000*(float(x.replace('k','')))\n",
        "    Post_updated.append(x_updated)\n",
        "  else:\n",
        "    Post_updated.append(float(x))\n",
        "df['Posts'] = Post_updated"
      ],
      "metadata": {
        "id": "m1-1ges_Cu1J"
      },
      "execution_count": 10,
      "outputs": []
    },
    {
      "cell_type": "code",
      "source": [
        "new_post_avg_likes = list(df['New Post Avg. Likes'])\n",
        "new_post_avg_likes_updated = []\n",
        "for y in new_post_avg_likes:\n",
        "  if 'm' in y:\n",
        "    y_updated = 1000000*(float(y.replace('m','')))\n",
        "    new_post_avg_likes_updated.append(y_updated)\n",
        "  else:\n",
        "    y_updated = 1000*(float(y.replace('k','')))\n",
        "    new_post_avg_likes_updated.append(y_updated)\n",
        "df['New Post Avg. Likes'] = new_post_avg_likes_updated"
      ],
      "metadata": {
        "id": "aGWkdPcTGsHa"
      },
      "execution_count": 11,
      "outputs": []
    },
    {
      "cell_type": "code",
      "source": [
        "total_likes = list(df['Total Likes'])\n",
        "total_likes_updated = []\n",
        "for z in total_likes:\n",
        "  if 'm' in z:\n",
        "    z_updated = 1000000*(float(z.replace('m','')))\n",
        "    total_likes_updated.append(z_updated)\n",
        "  else:\n",
        "    z_updated = 1000000000*(float(z.replace('b','')))\n",
        "    total_likes_updated.append(z_updated)\n",
        "df['Total Likes'] = total_likes_updated"
      ],
      "metadata": {
        "id": "TKNU2kkzISdZ"
      },
      "execution_count": 12,
      "outputs": []
    },
    {
      "cell_type": "code",
      "source": [
        "df.head(10)"
      ],
      "metadata": {
        "colab": {
          "base_uri": "https://localhost:8080/",
          "height": 618
        },
        "id": "tqg7NweeJjUY",
        "outputId": "bd8c7c52-c637-474b-9396-85f90f6df116"
      },
      "execution_count": 13,
      "outputs": [
        {
          "output_type": "execute_result",
          "data": {
            "text/plain": [
              "   Rank       Channel Info  Influence Score    Followers  Avg. Likes   Posts  \\\n",
              "0     1        \\ncristiano               92  485200000.0   8700000.0  3400.0   \n",
              "1     2        kyliejenner               91  370700000.0   8200000.0  7000.0   \n",
              "2     3         \\nleomessi               90  363900000.0   6700000.0   915.0   \n",
              "3     4      \\nselenagomez               93  348800000.0   6100000.0  1900.0   \n",
              "4     5          \\ntherock               91  339400000.0   1800000.0  6800.0   \n",
              "5     6     \\narianagrande               92  333000000.0   3700000.0  5000.0   \n",
              "6     7    \\nkimkardashian               91  330700000.0   3500000.0  5700.0   \n",
              "7     8          \\nbeyonce               92  276100000.0   3600000.0  2000.0   \n",
              "8     9  \\nkhloekardashian               89  273900000.0   2400000.0  4100.0   \n",
              "9    10     \\njustinbieber               91  260000000.0   1900000.0  7400.0   \n",
              "\n",
              "   60-Day Eng Rate  New Post Avg. Likes   Total Likes Country Or Region  \n",
              "0            0.013            6300000.0  2.910000e+10             Spain  \n",
              "1            0.014            5000000.0  5.740000e+10     United States  \n",
              "2            0.010            3500000.0  6.100000e+09     United States  \n",
              "3            0.005            1700000.0  1.140000e+10     United States  \n",
              "4            0.003             932000.0  1.260000e+10     United States  \n",
              "5            0.009            3100000.0  1.850000e+10     United States  \n",
              "6            0.005            1700000.0  1.980000e+10     United States  \n",
              "7            0.008            2200000.0  7.300000e+09     United States  \n",
              "8            0.002             404700.0  9.800000e+09     United States  \n",
              "9            0.007            1700000.0  1.400000e+10            Canada  "
            ],
            "text/html": [
              "\n",
              "  <div id=\"df-927a8aff-0a30-4125-a454-3de4740b6d4d\">\n",
              "    <div class=\"colab-df-container\">\n",
              "      <div>\n",
              "<style scoped>\n",
              "    .dataframe tbody tr th:only-of-type {\n",
              "        vertical-align: middle;\n",
              "    }\n",
              "\n",
              "    .dataframe tbody tr th {\n",
              "        vertical-align: top;\n",
              "    }\n",
              "\n",
              "    .dataframe thead th {\n",
              "        text-align: right;\n",
              "    }\n",
              "</style>\n",
              "<table border=\"1\" class=\"dataframe\">\n",
              "  <thead>\n",
              "    <tr style=\"text-align: right;\">\n",
              "      <th></th>\n",
              "      <th>Rank</th>\n",
              "      <th>Channel Info</th>\n",
              "      <th>Influence Score</th>\n",
              "      <th>Followers</th>\n",
              "      <th>Avg. Likes</th>\n",
              "      <th>Posts</th>\n",
              "      <th>60-Day Eng Rate</th>\n",
              "      <th>New Post Avg. Likes</th>\n",
              "      <th>Total Likes</th>\n",
              "      <th>Country Or Region</th>\n",
              "    </tr>\n",
              "  </thead>\n",
              "  <tbody>\n",
              "    <tr>\n",
              "      <th>0</th>\n",
              "      <td>1</td>\n",
              "      <td>\\ncristiano</td>\n",
              "      <td>92</td>\n",
              "      <td>485200000.0</td>\n",
              "      <td>8700000.0</td>\n",
              "      <td>3400.0</td>\n",
              "      <td>0.013</td>\n",
              "      <td>6300000.0</td>\n",
              "      <td>2.910000e+10</td>\n",
              "      <td>Spain</td>\n",
              "    </tr>\n",
              "    <tr>\n",
              "      <th>1</th>\n",
              "      <td>2</td>\n",
              "      <td>kyliejenner</td>\n",
              "      <td>91</td>\n",
              "      <td>370700000.0</td>\n",
              "      <td>8200000.0</td>\n",
              "      <td>7000.0</td>\n",
              "      <td>0.014</td>\n",
              "      <td>5000000.0</td>\n",
              "      <td>5.740000e+10</td>\n",
              "      <td>United States</td>\n",
              "    </tr>\n",
              "    <tr>\n",
              "      <th>2</th>\n",
              "      <td>3</td>\n",
              "      <td>\\nleomessi</td>\n",
              "      <td>90</td>\n",
              "      <td>363900000.0</td>\n",
              "      <td>6700000.0</td>\n",
              "      <td>915.0</td>\n",
              "      <td>0.010</td>\n",
              "      <td>3500000.0</td>\n",
              "      <td>6.100000e+09</td>\n",
              "      <td>United States</td>\n",
              "    </tr>\n",
              "    <tr>\n",
              "      <th>3</th>\n",
              "      <td>4</td>\n",
              "      <td>\\nselenagomez</td>\n",
              "      <td>93</td>\n",
              "      <td>348800000.0</td>\n",
              "      <td>6100000.0</td>\n",
              "      <td>1900.0</td>\n",
              "      <td>0.005</td>\n",
              "      <td>1700000.0</td>\n",
              "      <td>1.140000e+10</td>\n",
              "      <td>United States</td>\n",
              "    </tr>\n",
              "    <tr>\n",
              "      <th>4</th>\n",
              "      <td>5</td>\n",
              "      <td>\\ntherock</td>\n",
              "      <td>91</td>\n",
              "      <td>339400000.0</td>\n",
              "      <td>1800000.0</td>\n",
              "      <td>6800.0</td>\n",
              "      <td>0.003</td>\n",
              "      <td>932000.0</td>\n",
              "      <td>1.260000e+10</td>\n",
              "      <td>United States</td>\n",
              "    </tr>\n",
              "    <tr>\n",
              "      <th>5</th>\n",
              "      <td>6</td>\n",
              "      <td>\\narianagrande</td>\n",
              "      <td>92</td>\n",
              "      <td>333000000.0</td>\n",
              "      <td>3700000.0</td>\n",
              "      <td>5000.0</td>\n",
              "      <td>0.009</td>\n",
              "      <td>3100000.0</td>\n",
              "      <td>1.850000e+10</td>\n",
              "      <td>United States</td>\n",
              "    </tr>\n",
              "    <tr>\n",
              "      <th>6</th>\n",
              "      <td>7</td>\n",
              "      <td>\\nkimkardashian</td>\n",
              "      <td>91</td>\n",
              "      <td>330700000.0</td>\n",
              "      <td>3500000.0</td>\n",
              "      <td>5700.0</td>\n",
              "      <td>0.005</td>\n",
              "      <td>1700000.0</td>\n",
              "      <td>1.980000e+10</td>\n",
              "      <td>United States</td>\n",
              "    </tr>\n",
              "    <tr>\n",
              "      <th>7</th>\n",
              "      <td>8</td>\n",
              "      <td>\\nbeyonce</td>\n",
              "      <td>92</td>\n",
              "      <td>276100000.0</td>\n",
              "      <td>3600000.0</td>\n",
              "      <td>2000.0</td>\n",
              "      <td>0.008</td>\n",
              "      <td>2200000.0</td>\n",
              "      <td>7.300000e+09</td>\n",
              "      <td>United States</td>\n",
              "    </tr>\n",
              "    <tr>\n",
              "      <th>8</th>\n",
              "      <td>9</td>\n",
              "      <td>\\nkhloekardashian</td>\n",
              "      <td>89</td>\n",
              "      <td>273900000.0</td>\n",
              "      <td>2400000.0</td>\n",
              "      <td>4100.0</td>\n",
              "      <td>0.002</td>\n",
              "      <td>404700.0</td>\n",
              "      <td>9.800000e+09</td>\n",
              "      <td>United States</td>\n",
              "    </tr>\n",
              "    <tr>\n",
              "      <th>9</th>\n",
              "      <td>10</td>\n",
              "      <td>\\njustinbieber</td>\n",
              "      <td>91</td>\n",
              "      <td>260000000.0</td>\n",
              "      <td>1900000.0</td>\n",
              "      <td>7400.0</td>\n",
              "      <td>0.007</td>\n",
              "      <td>1700000.0</td>\n",
              "      <td>1.400000e+10</td>\n",
              "      <td>Canada</td>\n",
              "    </tr>\n",
              "  </tbody>\n",
              "</table>\n",
              "</div>\n",
              "      <button class=\"colab-df-convert\" onclick=\"convertToInteractive('df-927a8aff-0a30-4125-a454-3de4740b6d4d')\"\n",
              "              title=\"Convert this dataframe to an interactive table.\"\n",
              "              style=\"display:none;\">\n",
              "        \n",
              "  <svg xmlns=\"http://www.w3.org/2000/svg\" height=\"24px\"viewBox=\"0 0 24 24\"\n",
              "       width=\"24px\">\n",
              "    <path d=\"M0 0h24v24H0V0z\" fill=\"none\"/>\n",
              "    <path d=\"M18.56 5.44l.94 2.06.94-2.06 2.06-.94-2.06-.94-.94-2.06-.94 2.06-2.06.94zm-11 1L8.5 8.5l.94-2.06 2.06-.94-2.06-.94L8.5 2.5l-.94 2.06-2.06.94zm10 10l.94 2.06.94-2.06 2.06-.94-2.06-.94-.94-2.06-.94 2.06-2.06.94z\"/><path d=\"M17.41 7.96l-1.37-1.37c-.4-.4-.92-.59-1.43-.59-.52 0-1.04.2-1.43.59L10.3 9.45l-7.72 7.72c-.78.78-.78 2.05 0 2.83L4 21.41c.39.39.9.59 1.41.59.51 0 1.02-.2 1.41-.59l7.78-7.78 2.81-2.81c.8-.78.8-2.07 0-2.86zM5.41 20L4 18.59l7.72-7.72 1.47 1.35L5.41 20z\"/>\n",
              "  </svg>\n",
              "      </button>\n",
              "      \n",
              "  <style>\n",
              "    .colab-df-container {\n",
              "      display:flex;\n",
              "      flex-wrap:wrap;\n",
              "      gap: 12px;\n",
              "    }\n",
              "\n",
              "    .colab-df-convert {\n",
              "      background-color: #E8F0FE;\n",
              "      border: none;\n",
              "      border-radius: 50%;\n",
              "      cursor: pointer;\n",
              "      display: none;\n",
              "      fill: #1967D2;\n",
              "      height: 32px;\n",
              "      padding: 0 0 0 0;\n",
              "      width: 32px;\n",
              "    }\n",
              "\n",
              "    .colab-df-convert:hover {\n",
              "      background-color: #E2EBFA;\n",
              "      box-shadow: 0px 1px 2px rgba(60, 64, 67, 0.3), 0px 1px 3px 1px rgba(60, 64, 67, 0.15);\n",
              "      fill: #174EA6;\n",
              "    }\n",
              "\n",
              "    [theme=dark] .colab-df-convert {\n",
              "      background-color: #3B4455;\n",
              "      fill: #D2E3FC;\n",
              "    }\n",
              "\n",
              "    [theme=dark] .colab-df-convert:hover {\n",
              "      background-color: #434B5C;\n",
              "      box-shadow: 0px 1px 3px 1px rgba(0, 0, 0, 0.15);\n",
              "      filter: drop-shadow(0px 1px 2px rgba(0, 0, 0, 0.3));\n",
              "      fill: #FFFFFF;\n",
              "    }\n",
              "  </style>\n",
              "\n",
              "      <script>\n",
              "        const buttonEl =\n",
              "          document.querySelector('#df-927a8aff-0a30-4125-a454-3de4740b6d4d button.colab-df-convert');\n",
              "        buttonEl.style.display =\n",
              "          google.colab.kernel.accessAllowed ? 'block' : 'none';\n",
              "\n",
              "        async function convertToInteractive(key) {\n",
              "          const element = document.querySelector('#df-927a8aff-0a30-4125-a454-3de4740b6d4d');\n",
              "          const dataTable =\n",
              "            await google.colab.kernel.invokeFunction('convertToInteractive',\n",
              "                                                     [key], {});\n",
              "          if (!dataTable) return;\n",
              "\n",
              "          const docLinkHtml = 'Like what you see? Visit the ' +\n",
              "            '<a target=\"_blank\" href=https://colab.research.google.com/notebooks/data_table.ipynb>data table notebook</a>'\n",
              "            + ' to learn more about interactive tables.';\n",
              "          element.innerHTML = '';\n",
              "          dataTable['output_type'] = 'display_data';\n",
              "          await google.colab.output.renderOutput(dataTable, element);\n",
              "          const docLink = document.createElement('div');\n",
              "          docLink.innerHTML = docLinkHtml;\n",
              "          element.appendChild(docLink);\n",
              "        }\n",
              "      </script>\n",
              "    </div>\n",
              "  </div>\n",
              "  "
            ]
          },
          "metadata": {},
          "execution_count": 13
        }
      ]
    },
    {
      "cell_type": "markdown",
      "source": [
        "#Calculating Co-relation \n",
        "1. Are there any correlated features in the given dataset? If yes, state the correlation\n",
        "coefficient of the pair of features which are highly correlated."
      ],
      "metadata": {
        "id": "ShBN3czVKbTH"
      }
    },
    {
      "cell_type": "code",
      "source": [
        "df.corr()"
      ],
      "metadata": {
        "colab": {
          "base_uri": "https://localhost:8080/",
          "height": 503
        },
        "id": "NvUdL5u8Js1E",
        "outputId": "d184d002-5ffc-4ff4-8e63-cc576871a013"
      },
      "execution_count": 14,
      "outputs": [
        {
          "output_type": "execute_result",
          "data": {
            "text/plain": [
              "                         Rank  Influence Score  Followers  Avg. Likes  \\\n",
              "Rank                 1.000000        -0.354843  -0.698193   -0.277699   \n",
              "Influence Score     -0.354843         1.000000   0.365428    0.048502   \n",
              "Followers           -0.698193         0.365428   1.000000    0.346829   \n",
              "Avg. Likes          -0.277699         0.048502   0.346829    1.000000   \n",
              "Posts               -0.058132         0.168287   0.069171   -0.348795   \n",
              "60-Day Eng Rate      0.028900        -0.072460  -0.107439    0.789359   \n",
              "New Post Avg. Likes -0.272323         0.040011   0.260764    0.892784   \n",
              "Total Likes         -0.465119         0.234987   0.667546    0.361296   \n",
              "\n",
              "                        Posts  60-Day Eng Rate  New Post Avg. Likes  \\\n",
              "Rank                -0.058132         0.028900            -0.272323   \n",
              "Influence Score      0.168287        -0.072460             0.040011   \n",
              "Followers            0.069171        -0.107439             0.260764   \n",
              "Avg. Likes          -0.348795         0.789359             0.892784   \n",
              "Posts                1.000000        -0.334047            -0.285154   \n",
              "60-Day Eng Rate     -0.334047         1.000000             0.866293   \n",
              "New Post Avg. Likes -0.285154         0.866293             1.000000   \n",
              "Total Likes          0.232038        -0.001560             0.351335   \n",
              "\n",
              "                     Total Likes  \n",
              "Rank                   -0.465119  \n",
              "Influence Score         0.234987  \n",
              "Followers               0.667546  \n",
              "Avg. Likes              0.361296  \n",
              "Posts                   0.232038  \n",
              "60-Day Eng Rate        -0.001560  \n",
              "New Post Avg. Likes     0.351335  \n",
              "Total Likes             1.000000  "
            ],
            "text/html": [
              "\n",
              "  <div id=\"df-16c08417-2c82-4144-b87c-4c9b739683b9\">\n",
              "    <div class=\"colab-df-container\">\n",
              "      <div>\n",
              "<style scoped>\n",
              "    .dataframe tbody tr th:only-of-type {\n",
              "        vertical-align: middle;\n",
              "    }\n",
              "\n",
              "    .dataframe tbody tr th {\n",
              "        vertical-align: top;\n",
              "    }\n",
              "\n",
              "    .dataframe thead th {\n",
              "        text-align: right;\n",
              "    }\n",
              "</style>\n",
              "<table border=\"1\" class=\"dataframe\">\n",
              "  <thead>\n",
              "    <tr style=\"text-align: right;\">\n",
              "      <th></th>\n",
              "      <th>Rank</th>\n",
              "      <th>Influence Score</th>\n",
              "      <th>Followers</th>\n",
              "      <th>Avg. Likes</th>\n",
              "      <th>Posts</th>\n",
              "      <th>60-Day Eng Rate</th>\n",
              "      <th>New Post Avg. Likes</th>\n",
              "      <th>Total Likes</th>\n",
              "    </tr>\n",
              "  </thead>\n",
              "  <tbody>\n",
              "    <tr>\n",
              "      <th>Rank</th>\n",
              "      <td>1.000000</td>\n",
              "      <td>-0.354843</td>\n",
              "      <td>-0.698193</td>\n",
              "      <td>-0.277699</td>\n",
              "      <td>-0.058132</td>\n",
              "      <td>0.028900</td>\n",
              "      <td>-0.272323</td>\n",
              "      <td>-0.465119</td>\n",
              "    </tr>\n",
              "    <tr>\n",
              "      <th>Influence Score</th>\n",
              "      <td>-0.354843</td>\n",
              "      <td>1.000000</td>\n",
              "      <td>0.365428</td>\n",
              "      <td>0.048502</td>\n",
              "      <td>0.168287</td>\n",
              "      <td>-0.072460</td>\n",
              "      <td>0.040011</td>\n",
              "      <td>0.234987</td>\n",
              "    </tr>\n",
              "    <tr>\n",
              "      <th>Followers</th>\n",
              "      <td>-0.698193</td>\n",
              "      <td>0.365428</td>\n",
              "      <td>1.000000</td>\n",
              "      <td>0.346829</td>\n",
              "      <td>0.069171</td>\n",
              "      <td>-0.107439</td>\n",
              "      <td>0.260764</td>\n",
              "      <td>0.667546</td>\n",
              "    </tr>\n",
              "    <tr>\n",
              "      <th>Avg. Likes</th>\n",
              "      <td>-0.277699</td>\n",
              "      <td>0.048502</td>\n",
              "      <td>0.346829</td>\n",
              "      <td>1.000000</td>\n",
              "      <td>-0.348795</td>\n",
              "      <td>0.789359</td>\n",
              "      <td>0.892784</td>\n",
              "      <td>0.361296</td>\n",
              "    </tr>\n",
              "    <tr>\n",
              "      <th>Posts</th>\n",
              "      <td>-0.058132</td>\n",
              "      <td>0.168287</td>\n",
              "      <td>0.069171</td>\n",
              "      <td>-0.348795</td>\n",
              "      <td>1.000000</td>\n",
              "      <td>-0.334047</td>\n",
              "      <td>-0.285154</td>\n",
              "      <td>0.232038</td>\n",
              "    </tr>\n",
              "    <tr>\n",
              "      <th>60-Day Eng Rate</th>\n",
              "      <td>0.028900</td>\n",
              "      <td>-0.072460</td>\n",
              "      <td>-0.107439</td>\n",
              "      <td>0.789359</td>\n",
              "      <td>-0.334047</td>\n",
              "      <td>1.000000</td>\n",
              "      <td>0.866293</td>\n",
              "      <td>-0.001560</td>\n",
              "    </tr>\n",
              "    <tr>\n",
              "      <th>New Post Avg. Likes</th>\n",
              "      <td>-0.272323</td>\n",
              "      <td>0.040011</td>\n",
              "      <td>0.260764</td>\n",
              "      <td>0.892784</td>\n",
              "      <td>-0.285154</td>\n",
              "      <td>0.866293</td>\n",
              "      <td>1.000000</td>\n",
              "      <td>0.351335</td>\n",
              "    </tr>\n",
              "    <tr>\n",
              "      <th>Total Likes</th>\n",
              "      <td>-0.465119</td>\n",
              "      <td>0.234987</td>\n",
              "      <td>0.667546</td>\n",
              "      <td>0.361296</td>\n",
              "      <td>0.232038</td>\n",
              "      <td>-0.001560</td>\n",
              "      <td>0.351335</td>\n",
              "      <td>1.000000</td>\n",
              "    </tr>\n",
              "  </tbody>\n",
              "</table>\n",
              "</div>\n",
              "      <button class=\"colab-df-convert\" onclick=\"convertToInteractive('df-16c08417-2c82-4144-b87c-4c9b739683b9')\"\n",
              "              title=\"Convert this dataframe to an interactive table.\"\n",
              "              style=\"display:none;\">\n",
              "        \n",
              "  <svg xmlns=\"http://www.w3.org/2000/svg\" height=\"24px\"viewBox=\"0 0 24 24\"\n",
              "       width=\"24px\">\n",
              "    <path d=\"M0 0h24v24H0V0z\" fill=\"none\"/>\n",
              "    <path d=\"M18.56 5.44l.94 2.06.94-2.06 2.06-.94-2.06-.94-.94-2.06-.94 2.06-2.06.94zm-11 1L8.5 8.5l.94-2.06 2.06-.94-2.06-.94L8.5 2.5l-.94 2.06-2.06.94zm10 10l.94 2.06.94-2.06 2.06-.94-2.06-.94-.94-2.06-.94 2.06-2.06.94z\"/><path d=\"M17.41 7.96l-1.37-1.37c-.4-.4-.92-.59-1.43-.59-.52 0-1.04.2-1.43.59L10.3 9.45l-7.72 7.72c-.78.78-.78 2.05 0 2.83L4 21.41c.39.39.9.59 1.41.59.51 0 1.02-.2 1.41-.59l7.78-7.78 2.81-2.81c.8-.78.8-2.07 0-2.86zM5.41 20L4 18.59l7.72-7.72 1.47 1.35L5.41 20z\"/>\n",
              "  </svg>\n",
              "      </button>\n",
              "      \n",
              "  <style>\n",
              "    .colab-df-container {\n",
              "      display:flex;\n",
              "      flex-wrap:wrap;\n",
              "      gap: 12px;\n",
              "    }\n",
              "\n",
              "    .colab-df-convert {\n",
              "      background-color: #E8F0FE;\n",
              "      border: none;\n",
              "      border-radius: 50%;\n",
              "      cursor: pointer;\n",
              "      display: none;\n",
              "      fill: #1967D2;\n",
              "      height: 32px;\n",
              "      padding: 0 0 0 0;\n",
              "      width: 32px;\n",
              "    }\n",
              "\n",
              "    .colab-df-convert:hover {\n",
              "      background-color: #E2EBFA;\n",
              "      box-shadow: 0px 1px 2px rgba(60, 64, 67, 0.3), 0px 1px 3px 1px rgba(60, 64, 67, 0.15);\n",
              "      fill: #174EA6;\n",
              "    }\n",
              "\n",
              "    [theme=dark] .colab-df-convert {\n",
              "      background-color: #3B4455;\n",
              "      fill: #D2E3FC;\n",
              "    }\n",
              "\n",
              "    [theme=dark] .colab-df-convert:hover {\n",
              "      background-color: #434B5C;\n",
              "      box-shadow: 0px 1px 3px 1px rgba(0, 0, 0, 0.15);\n",
              "      filter: drop-shadow(0px 1px 2px rgba(0, 0, 0, 0.3));\n",
              "      fill: #FFFFFF;\n",
              "    }\n",
              "  </style>\n",
              "\n",
              "      <script>\n",
              "        const buttonEl =\n",
              "          document.querySelector('#df-16c08417-2c82-4144-b87c-4c9b739683b9 button.colab-df-convert');\n",
              "        buttonEl.style.display =\n",
              "          google.colab.kernel.accessAllowed ? 'block' : 'none';\n",
              "\n",
              "        async function convertToInteractive(key) {\n",
              "          const element = document.querySelector('#df-16c08417-2c82-4144-b87c-4c9b739683b9');\n",
              "          const dataTable =\n",
              "            await google.colab.kernel.invokeFunction('convertToInteractive',\n",
              "                                                     [key], {});\n",
              "          if (!dataTable) return;\n",
              "\n",
              "          const docLinkHtml = 'Like what you see? Visit the ' +\n",
              "            '<a target=\"_blank\" href=https://colab.research.google.com/notebooks/data_table.ipynb>data table notebook</a>'\n",
              "            + ' to learn more about interactive tables.';\n",
              "          element.innerHTML = '';\n",
              "          dataTable['output_type'] = 'display_data';\n",
              "          await google.colab.output.renderOutput(dataTable, element);\n",
              "          const docLink = document.createElement('div');\n",
              "          docLink.innerHTML = docLinkHtml;\n",
              "          element.appendChild(docLink);\n",
              "        }\n",
              "      </script>\n",
              "    </div>\n",
              "  </div>\n",
              "  "
            ]
          },
          "metadata": {},
          "execution_count": 14
        }
      ]
    },
    {
      "cell_type": "markdown",
      "source": [
        "#Data Visualization\n",
        "2. What is the frequency distribution of the following features?\n",
        "\n",
        "○ Influence Score\n",
        "\n",
        "○ Followers\n",
        "\n",
        "○ Posts"
      ],
      "metadata": {
        "id": "9SSfoWT1T7xs"
      }
    },
    {
      "cell_type": "code",
      "source": [
        "import seaborn as sns\n",
        "import matplotlib.pyplot as plt\n",
        "sns.histplot(df['Influence Score'])"
      ],
      "metadata": {
        "colab": {
          "base_uri": "https://localhost:8080/",
          "height": 296
        },
        "id": "tcDQQvY3Kmxc",
        "outputId": "6e328aa6-a46d-4ebc-f455-5e8a1c8b0ffa"
      },
      "execution_count": 15,
      "outputs": [
        {
          "output_type": "execute_result",
          "data": {
            "text/plain": [
              "<matplotlib.axes._subplots.AxesSubplot at 0x7fa8edb91580>"
            ]
          },
          "metadata": {},
          "execution_count": 15
        },
        {
          "output_type": "display_data",
          "data": {
            "text/plain": [
              "<Figure size 432x288 with 1 Axes>"
            ],
            "image/png": "[encoded data removed]"
          },
          "metadata": {
            "needs_background": "light"
          }
        }
      ]
    },
    {
      "cell_type": "code",
      "source": [
        "sns.histplot(df['Followers'])"
      ],
      "metadata": {
        "colab": {
          "base_uri": "https://localhost:8080/",
          "height": 296
        },
        "id": "thkBJ4xZUlPQ",
        "outputId": "a568e5b8-cb12-4672-a2ae-05da4b03a5f2"
      },
      "execution_count": 16,
      "outputs": [
        {
          "output_type": "execute_result",
          "data": {
            "text/plain": [
              "<matplotlib.axes._subplots.AxesSubplot at 0x7fa8eda5ba30>"
            ]
          },
          "metadata": {},
          "execution_count": 16
        },
        {
          "output_type": "display_data",
          "data": {
            "text/plain": [
              "<Figure size 432x288 with 1 Axes>"
            ],
            "image/png": "[encoded data removed]"
          },
          "metadata": {
            "needs_background": "light"
          }
        }
      ]
    },
    {
      "cell_type": "code",
      "source": [
        "sns.histplot(df['Posts'])"
      ],
      "metadata": {
        "colab": {
          "base_uri": "https://localhost:8080/",
          "height": 296
        },
        "id": "61cVWx6pU2cf",
        "outputId": "6cd494e3-e98b-4b5e-f1d6-19c8d30b30ff"
      },
      "execution_count": 17,
      "outputs": [
        {
          "output_type": "execute_result",
          "data": {
            "text/plain": [
              "<matplotlib.axes._subplots.AxesSubplot at 0x7fa8ed57e490>"
            ]
          },
          "metadata": {},
          "execution_count": 17
        },
        {
          "output_type": "display_data",
          "data": {
            "text/plain": [
              "<Figure size 432x288 with 1 Axes>"
            ],
            "image/png": "[encoded data removed]"
          },
          "metadata": {
            "needs_background": "light"
          }
        }
      ]
    },
    {
      "cell_type": "markdown",
      "source": [
        "3. Which country houses the highest number of Instagram Influencers? Please show the\n",
        "count of Instagram influencers in different countries using barchart."
      ],
      "metadata": {
        "id": "gP8YnLTOVFTq"
      }
    },
    {
      "cell_type": "code",
      "source": [
        "df['Country Or Region'].unique()"
      ],
      "metadata": {
        "id": "xUawC2HhU7-V",
        "colab": {
          "base_uri": "https://localhost:8080/"
        },
        "outputId": "4f08e4df-8bd7-4e33-84d1-4786342ecdcc"
      },
      "execution_count": 18,
      "outputs": [
        {
          "output_type": "execute_result",
          "data": {
            "text/plain": [
              "array(['Spain', 'United States', 'Canada', 'Brazil', 'Netherlands',\n",
              "       'United Kingdom', 'India', 'Uruguay', 'Turkey', 'Indonesia',\n",
              "       'Colombia', 'France', 'Australia', 'Italy', 'United Arab Emirates',\n",
              "       'Puerto Rico', \"CÃ´te d'Ivoire\", 'Anguilla', 'Switzerland',\n",
              "       'Sweden', 'British Virgin Islands', 'Czech Republic', 'Mexico',\n",
              "       'Germany', 'Russia'], dtype=object)"
            ]
          },
          "metadata": {},
          "execution_count": 18
        }
      ]
    },
    {
      "cell_type": "code",
      "source": [
        "count=df['Country Or Region'].value_counts()"
      ],
      "metadata": {
        "id": "tvEVLp64rkKw"
      },
      "execution_count": 19,
      "outputs": []
    },
    {
      "cell_type": "code",
      "source": [
        "plt.bar(df['Country Or Region'].unique(),df['Country Or Region'].value_counts())"
      ],
      "metadata": {
        "colab": {
          "base_uri": "https://localhost:8080/",
          "height": 282
        },
        "id": "x1U49GbttPLs",
        "outputId": "4acd67dc-13a2-4311-c2d4-5247f0e52e00"
      },
      "execution_count": 20,
      "outputs": [
        {
          "output_type": "execute_result",
          "data": {
            "text/plain": [
              "<BarContainer object of 25 artists>"
            ]
          },
          "metadata": {},
          "execution_count": 20
        },
        {
          "output_type": "display_data",
          "data": {
            "text/plain": [
              "<Figure size 432x288 with 1 Axes>"
            ],
            "image/png": "[encoded data removed]"
          },
          "metadata": {
            "needs_background": "light"
          }
        }
      ]
    },
    {
      "cell_type": "markdown",
      "source": [
        "4. Who are the top 10 influencers in the given dataset based on the following features\n",
        "● Followers\n",
        "● Average likes\n",
        "● Total Likes"
      ],
      "metadata": {
        "id": "N6sv3B3FJzLT"
      }
    },
    {
      "cell_type": "code",
      "source": [
        "df.groupby('Followers')['Channel Info'].sum().tail(10)"
      ],
      "metadata": {
        "colab": {
          "base_uri": "https://localhost:8080/"
        },
        "id": "HDD9Lyq5td-8",
        "outputId": "4e2e5055-ff3c-46ac-a36d-f9acdde7ba64"
      },
      "execution_count": 64,
      "outputs": [
        {
          "output_type": "execute_result",
          "data": {
            "text/plain": [
              "Followers\n",
              "260000000.0       \\njustinbieber\n",
              "273900000.0    \\nkhloekardashian\n",
              "276100000.0            \\nbeyonce\n",
              "330700000.0      \\nkimkardashian\n",
              "333000000.0       \\narianagrande\n",
              "339400000.0            \\ntherock\n",
              "348800000.0        \\nselenagomez\n",
              "363900000.0           \\nleomessi\n",
              "370700000.0          kyliejenner\n",
              "485200000.0          \\ncristiano\n",
              "Name: Channel Info, dtype: object"
            ]
          },
          "metadata": {},
          "execution_count": 64
        }
      ]
    },
    {
      "cell_type": "code",
      "source": [
        "df.groupby('Avg. Likes')['Channel Info'].sum().tail(10)"
      ],
      "metadata": {
        "colab": {
          "base_uri": "https://localhost:8080/"
        },
        "id": "rR3A5P8NKghI",
        "outputId": "15f3e687-0261-4a98-9aa3-dd6435555f13"
      },
      "execution_count": 56,
      "outputs": [
        {
          "output_type": "execute_result",
          "data": {
            "text/plain": [
              "Avg. Likes\n",
              "5900000.0          \\nzendaya\n",
              "6000000.0     \\nlalalalisa_m\n",
              "6100000.0      \\nselenagomez\n",
              "6700000.0         \\nleomessi\n",
              "8200000.0        kyliejenner\n",
              "8400000.0     \\nbillieeilish\n",
              "8700000.0        \\ncristiano\n",
              "10600000.0           \\nrkive\n",
              "14400000.0             \\nj.m\n",
              "15400000.0             \\nthv\n",
              "Name: Channel Info, dtype: object"
            ]
          },
          "metadata": {},
          "execution_count": 56
        }
      ]
    },
    {
      "cell_type": "code",
      "source": [
        "df.groupby('Total Likes')['Channel Info'].sum().tail(10)"
      ],
      "metadata": {
        "colab": {
          "base_uri": "https://localhost:8080/"
        },
        "id": "Sm3fnJHALMxp",
        "outputId": "298007fd-090e-4b43-88fa-5e1412099cf9"
      },
      "execution_count": 57,
      "outputs": [
        {
          "output_type": "execute_result",
          "data": {
            "text/plain": [
              "Total Likes\n",
              "1.260000e+10          \\ntherock\n",
              "1.290000e+10       \\nnickiminaj\n",
              "1.400000e+10     \\njustinbieber\n",
              "1.440000e+10         \\nneymarjr\n",
              "1.800000e+10       \\nbadgalriri\n",
              "1.850000e+10     \\narianagrande\n",
              "1.980000e+10    \\nkimkardashian\n",
              "2.080000e+10          \\nzendaya\n",
              "2.910000e+10        \\ncristiano\n",
              "5.740000e+10        kyliejenner\n",
              "Name: Channel Info, dtype: object"
            ]
          },
          "metadata": {},
          "execution_count": 57
        }
      ]
    },
    {
      "cell_type": "markdown",
      "source": [
        "5. Describe the relationship between the following pairs of features using a suitable graph\n",
        "\n",
        "● Followers and Total Likes\n",
        "\n",
        "● Followers and Influence Score\n",
        "\n",
        "● Posts and Average likes\n",
        "\n",
        "● Posts and Influence Score"
      ],
      "metadata": {
        "id": "jpNIk9ITTSK8"
      }
    },
    {
      "cell_type": "code",
      "source": [
        "plt.scatter(df['Followers'],df['Total Likes'])"
      ],
      "metadata": {
        "colab": {
          "base_uri": "https://localhost:8080/",
          "height": 306
        },
        "id": "NDZM8CylLXm5",
        "outputId": "d9bbd3d7-d55c-4f8b-e859-1fede8f9e41f"
      },
      "execution_count": 68,
      "outputs": [
        {
          "output_type": "execute_result",
          "data": {
            "text/plain": [
              "<matplotlib.collections.PathCollection at 0x7fa8ebca2280>"
            ]
          },
          "metadata": {},
          "execution_count": 68
        },
        {
          "output_type": "display_data",
          "data": {
            "text/plain": [
              "<Figure size 432x288 with 1 Axes>"
            ],
            "image/png": "[encoded data removed]"
          },
          "metadata": {
            "needs_background": "light"
          }
        }
      ]
    },
    {
      "cell_type": "code",
      "source": [
        "plt.scatter(df['Followers'],df['Influence Score'])"
      ],
      "metadata": {
        "colab": {
          "base_uri": "https://localhost:8080/",
          "height": 295
        },
        "id": "qT-k5JaTTfR6",
        "outputId": "3bd5e19d-da2d-49ac-f121-7e15b2cd0e33"
      },
      "execution_count": 69,
      "outputs": [
        {
          "output_type": "execute_result",
          "data": {
            "text/plain": [
              "<matplotlib.collections.PathCollection at 0x7fa8eb831c40>"
            ]
          },
          "metadata": {},
          "execution_count": 69
        },
        {
          "output_type": "display_data",
          "data": {
            "text/plain": [
              "<Figure size 432x288 with 1 Axes>"
            ],
            "image/png": "[encoded data removed]"
          },
          "metadata": {
            "needs_background": "light"
          }
        }
      ]
    },
    {
      "cell_type": "code",
      "source": [
        "plt.scatter(df['Posts'],df['Avg. Likes'])"
      ],
      "metadata": {
        "colab": {
          "base_uri": "https://localhost:8080/",
          "height": 293
        },
        "id": "xnSCbObPULIl",
        "outputId": "89e4cead-f7fe-4b16-a639-1e34f9458051"
      },
      "execution_count": 72,
      "outputs": [
        {
          "output_type": "execute_result",
          "data": {
            "text/plain": [
              "<matplotlib.collections.PathCollection at 0x7fa8ec330c10>"
            ]
          },
          "metadata": {},
          "execution_count": 72
        },
        {
          "output_type": "display_data",
          "data": {
            "text/plain": [
              "<Figure size 432x288 with 1 Axes>"
            ],
            "image/png": "[encoded data removed]"
          },
          "metadata": {
            "needs_background": "light"
          }
        }
      ]
    },
    {
      "cell_type": "code",
      "source": [
        "plt.scatter(df['Posts'],df['Influence Score'])"
      ],
      "metadata": {
        "colab": {
          "base_uri": "https://localhost:8080/",
          "height": 282
        },
        "id": "kvr5mNs4UoDk",
        "outputId": "b5089d0b-1d03-430e-a9b9-5232df21dbe0"
      },
      "execution_count": 73,
      "outputs": [
        {
          "output_type": "execute_result",
          "data": {
            "text/plain": [
              "<matplotlib.collections.PathCollection at 0x7fa8ec2464c0>"
            ]
          },
          "metadata": {},
          "execution_count": 73
        },
        {
          "output_type": "display_data",
          "data": {
            "text/plain": [
              "<Figure size 432x288 with 1 Axes>"
            ],
            "image/png": "[encoded data removed]"
          },
          "metadata": {
            "needs_background": "light"
          }
        }
      ]
    },
    {
      "cell_type": "code",
      "source": [],
      "metadata": {
        "id": "WGlgjn2vU25G"
      },
      "execution_count": null,
      "outputs": []
    }
  ]
}